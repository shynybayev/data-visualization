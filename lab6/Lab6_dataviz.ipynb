{
  "nbformat": 4,
  "nbformat_minor": 0,
  "metadata": {
    "colab": {
      "name": "Lab6_dataviz.ipynb",
      "provenance": []
    },
    "kernelspec": {
      "name": "python3",
      "display_name": "Python 3"
    }
  },
  "cells": [
    {
      "cell_type": "code",
      "metadata": {
        "id": "9v0itmSDQ2SO"
      },
      "source": [
        "from IPython.core.display import HTML, display\r\n",
        "from string import Template\r\n",
        "import pandas as pd\r\n",
        "import json, random\r\n"
      ],
      "execution_count": 1,
      "outputs": []
    },
    {
      "cell_type": "code",
      "metadata": {
        "colab": {
          "resources": {
            "http://localhost:8080/d3.js": {
              "data": "CjwhRE9DVFlQRSBodG1sPgo8aHRtbCBsYW5nPWVuPgogIDxtZXRhIGNoYXJzZXQ9dXRmLTg+CiAgPG1ldGEgbmFtZT12aWV3cG9ydCBjb250ZW50PSJpbml0aWFsLXNjYWxlPTEsIG1pbmltdW0tc2NhbGU9MSwgd2lkdGg9ZGV2aWNlLXdpZHRoIj4KICA8dGl0bGU+RXJyb3IgNDA0IChOb3QgRm91bmQpISExPC90aXRsZT4KICA8c3R5bGU+CiAgICAqe21hcmdpbjowO3BhZGRpbmc6MH1odG1sLGNvZGV7Zm9udDoxNXB4LzIycHggYXJpYWwsc2Fucy1zZXJpZn1odG1se2JhY2tncm91bmQ6I2ZmZjtjb2xvcjojMjIyO3BhZGRpbmc6MTVweH1ib2R5e21hcmdpbjo3JSBhdXRvIDA7bWF4LXdpZHRoOjM5MHB4O21pbi1oZWlnaHQ6MTgwcHg7cGFkZGluZzozMHB4IDAgMTVweH0qID4gYm9keXtiYWNrZ3JvdW5kOnVybCgvL3d3dy5nb29nbGUuY29tL2ltYWdlcy9lcnJvcnMvcm9ib3QucG5nKSAxMDAlIDVweCBuby1yZXBlYXQ7cGFkZGluZy1yaWdodDoyMDVweH1we21hcmdpbjoxMXB4IDAgMjJweDtvdmVyZmxvdzpoaWRkZW59aW5ze2NvbG9yOiM3Nzc7dGV4dC1kZWNvcmF0aW9uOm5vbmV9YSBpbWd7Ym9yZGVyOjB9QG1lZGlhIHNjcmVlbiBhbmQgKG1heC13aWR0aDo3NzJweCl7Ym9keXtiYWNrZ3JvdW5kOm5vbmU7bWFyZ2luLXRvcDowO21heC13aWR0aDpub25lO3BhZGRpbmctcmlnaHQ6MH19I2xvZ297YmFja2dyb3VuZDp1cmwoLy93d3cuZ29vZ2xlLmNvbS9pbWFnZXMvbG9nb3MvZXJyb3JwYWdlL2Vycm9yX2xvZ28tMTUweDU0LnBuZykgbm8tcmVwZWF0O21hcmdpbi1sZWZ0Oi01cHh9QG1lZGlhIG9ubHkgc2NyZWVuIGFuZCAobWluLXJlc29sdXRpb246MTkyZHBpKXsjbG9nb3tiYWNrZ3JvdW5kOnVybCgvL3d3dy5nb29nbGUuY29tL2ltYWdlcy9sb2dvcy9lcnJvcnBhZ2UvZXJyb3JfbG9nby0xNTB4NTQtMngucG5nKSBuby1yZXBlYXQgMCUgMCUvMTAwJSAxMDAlOy1tb3otYm9yZGVyLWltYWdlOnVybCgvL3d3dy5nb29nbGUuY29tL2ltYWdlcy9sb2dvcy9lcnJvcnBhZ2UvZXJyb3JfbG9nby0xNTB4NTQtMngucG5nKSAwfX1AbWVkaWEgb25seSBzY3JlZW4gYW5kICgtd2Via2l0LW1pbi1kZXZpY2UtcGl4ZWwtcmF0aW86Mil7I2xvZ297YmFja2dyb3VuZDp1cmwoLy93d3cuZ29vZ2xlLmNvbS9pbWFnZXMvbG9nb3MvZXJyb3JwYWdlL2Vycm9yX2xvZ28tMTUweDU0LTJ4LnBuZykgbm8tcmVwZWF0Oy13ZWJraXQtYmFja2dyb3VuZC1zaXplOjEwMCUgMTAwJX19I2xvZ297ZGlzcGxheTppbmxpbmUtYmxvY2s7aGVpZ2h0OjU0cHg7d2lkdGg6MTUwcHh9CiAgPC9zdHlsZT4KICA8YSBocmVmPS8vd3d3Lmdvb2dsZS5jb20vPjxzcGFuIGlkPWxvZ28gYXJpYS1sYWJlbD1Hb29nbGU+PC9zcGFuPjwvYT4KICA8cD48Yj40MDQuPC9iPiA8aW5zPlRoYXTigJlzIGFuIGVycm9yLjwvaW5zPgogIDxwPiAgPGlucz5UaGF04oCZcyBhbGwgd2Uga25vdy48L2lucz4K",
              "ok": false,
              "headers": [
                [
                  "content-length",
                  "1449"
                ],
                [
                  "content-type",
                  "text/html; charset=utf-8"
                ]
              ],
              "status": 404,
              "status_text": ""
            }
          },
          "base_uri": "https://localhost:8080/",
          "height": 17
        },
        "id": "RZT9PJAhRyz6",
        "outputId": "46f47f1a-b53b-4516-d723-9f93fdac48e9"
      },
      "source": [
        "HTML(\"<script src='d3.js'></script>\")\r\n"
      ],
      "execution_count": 2,
      "outputs": [
        {
          "output_type": "execute_result",
          "data": {
            "text/html": [
              "<script src='d3.js'></script>"
            ],
            "text/plain": [
              "<IPython.core.display.HTML object>"
            ]
          },
          "metadata": {
            "tags": []
          },
          "execution_count": 2
        }
      ]
    },
    {
      "cell_type": "code",
      "metadata": {
        "colab": {
          "base_uri": "https://localhost:8080/"
        },
        "id": "NFLvDuuYV77-",
        "outputId": "43d83ce5-3eea-4109-bdd7-5b5cfd3d94d9"
      },
      "source": [
        "from google.colab import drive\r\n",
        "drive.mount('/content/drive')"
      ],
      "execution_count": 4,
      "outputs": [
        {
          "output_type": "stream",
          "text": [
            "Mounted at /content/drive\n"
          ],
          "name": "stdout"
        }
      ]
    },
    {
      "cell_type": "code",
      "metadata": {
        "colab": {
          "base_uri": "https://localhost:8080/"
        },
        "id": "DMsQEsoqWHau",
        "outputId": "3e8a3215-159e-4727-8dd5-1bbc9f4babf1"
      },
      "source": [
        "data = pd.read_csv('/content/drive/MyDrive/calls.csv')\r\n",
        "data.shape"
      ],
      "execution_count": 5,
      "outputs": [
        {
          "output_type": "execute_result",
          "data": {
            "text/plain": [
              "(14, 2)"
            ]
          },
          "metadata": {
            "tags": []
          },
          "execution_count": 5
        }
      ]
    },
    {
      "cell_type": "code",
      "metadata": {
        "colab": {
          "base_uri": "https://localhost:8080/",
          "height": 202
        },
        "id": "2w6ZD9cdR1E6",
        "outputId": "17dc7e06-bc00-4bc0-c897-a41779511f2b"
      },
      "source": [
        "data.head()\r\n"
      ],
      "execution_count": 7,
      "outputs": [
        {
          "output_type": "execute_result",
          "data": {
            "text/html": [
              "<div>\n",
              "<style scoped>\n",
              "    .dataframe tbody tr th:only-of-type {\n",
              "        vertical-align: middle;\n",
              "    }\n",
              "\n",
              "    .dataframe tbody tr th {\n",
              "        vertical-align: top;\n",
              "    }\n",
              "\n",
              "    .dataframe thead th {\n",
              "        text-align: right;\n",
              "    }\n",
              "</style>\n",
              "<table border=\"1\" class=\"dataframe\">\n",
              "  <thead>\n",
              "    <tr style=\"text-align: right;\">\n",
              "      <th></th>\n",
              "      <th>operators</th>\n",
              "      <th>calls</th>\n",
              "    </tr>\n",
              "  </thead>\n",
              "  <tbody>\n",
              "    <tr>\n",
              "      <th>0</th>\n",
              "      <td>Adam</td>\n",
              "      <td>31</td>\n",
              "    </tr>\n",
              "    <tr>\n",
              "      <th>1</th>\n",
              "      <td>Danilo</td>\n",
              "      <td>24</td>\n",
              "    </tr>\n",
              "    <tr>\n",
              "      <th>2</th>\n",
              "      <td>Luis</td>\n",
              "      <td>49</td>\n",
              "    </tr>\n",
              "    <tr>\n",
              "      <th>3</th>\n",
              "      <td>Mark</td>\n",
              "      <td>16</td>\n",
              "    </tr>\n",
              "    <tr>\n",
              "      <th>4</th>\n",
              "      <td>Joe</td>\n",
              "      <td>51</td>\n",
              "    </tr>\n",
              "  </tbody>\n",
              "</table>\n",
              "</div>"
            ],
            "text/plain": [
              "  operators  calls\n",
              "0      Adam     31\n",
              "1    Danilo     24\n",
              "2      Luis     49\n",
              "3      Mark     16\n",
              "4       Joe     51"
            ]
          },
          "metadata": {
            "tags": []
          },
          "execution_count": 7
        }
      ]
    },
    {
      "cell_type": "code",
      "metadata": {
        "colab": {
          "base_uri": "https://localhost:8080/"
        },
        "id": "q2YZ8OjyR6UK",
        "outputId": "74fe0bf6-ad52-491d-aa49-d26c7a98b108"
      },
      "source": [
        "data_dict = data.to_dict(orient=\"records\")\r\n",
        "data_dict[:5]\r\n"
      ],
      "execution_count": 8,
      "outputs": [
        {
          "output_type": "execute_result",
          "data": {
            "text/plain": [
              "[{'calls': 31, 'operators': 'Adam'},\n",
              " {'calls': 24, 'operators': 'Danilo'},\n",
              " {'calls': 49, 'operators': 'Luis'},\n",
              " {'calls': 16, 'operators': 'Mark'},\n",
              " {'calls': 51, 'operators': 'Joe'}]"
            ]
          },
          "metadata": {
            "tags": []
          },
          "execution_count": 8
        }
      ]
    },
    {
      "cell_type": "code",
      "metadata": {
        "id": "NIr7yUy0R63H"
      },
      "source": [
        "js_text_template = Template('''\r\n",
        "var margin = {\r\n",
        "        top: 20,\r\n",
        "        right: 20,\r\n",
        "        bottom: 30,\r\n",
        "        left: 40\r\n",
        "    },\r\n",
        "    width = 500 - margin.left - margin.right,\r\n",
        "    height = 300 - margin.top - margin.bottom;\r\n",
        "\r\n",
        "var x = d3.scale.ordinal()\r\n",
        "    .rangeRoundBands([0, width], .1);\r\n",
        "\r\n",
        "var y = d3.scale.linear()\r\n",
        "    .range([height, 0]);\r\n",
        "\r\n",
        "var xAxis = d3.svg.axis()\r\n",
        "    .scale(x)\r\n",
        "    .orient(\"bottom\");\r\n",
        "\r\n",
        "var yAxis = d3.svg.axis()\r\n",
        "    .scale(y)\r\n",
        "    .orient(\"left\");\r\n",
        "\r\n",
        "var svg = d3.select(\"#graph-div\").append(\"svg\")\r\n",
        "    .attr(\"width\", width + margin.left + margin.right)\r\n",
        "    .attr(\"height\", height + margin.top + margin.bottom)\r\n",
        "    .append(\"g\")\r\n",
        "    .attr(\"transform\", \"translate(\" + margin.left + \",\" + margin.top + \")\");\r\n",
        "\r\n",
        "var data = $data;\r\n",
        "\r\n",
        "x.domain(data.map(function(d) {\r\n",
        "    return d.salesperson;\r\n",
        "}));\r\n",
        "y.domain([0, d3.max(data, function(d) {\r\n",
        "    return d.sales;\r\n",
        "})]);\r\n",
        "\r\n",
        "svg.append(\"g\")\r\n",
        "    .attr(\"class\", \"x axis\")\r\n",
        "    .attr(\"transform\", \"translate(0,\" + height + \")\")\r\n",
        "    .call(xAxis);\r\n",
        "\r\n",
        "svg.append(\"g\")\r\n",
        "    .attr(\"class\", \"y axis\")\r\n",
        "    .call(yAxis);\r\n",
        "\r\n",
        "svg.selectAll(\".bar\")\r\n",
        "    .data(data)\r\n",
        "    .enter().append(\"rect\")\r\n",
        "    .attr(\"class\", \"bar\")\r\n",
        "    .attr(\"x\", function(d) {\r\n",
        "        return x(d.salesperson);\r\n",
        "    })\r\n",
        "    .attr(\"width\", x.rangeBand())\r\n",
        "    .attr(\"y\", function(d) {\r\n",
        "        return y(d.sales);\r\n",
        "    })\r\n",
        "    .attr(\"height\", function(d) {\r\n",
        "        return height - y(d.sales);\r\n",
        "    });\r\n",
        "\r\n",
        "for (let i = 0; i < data.length-1; i++) {\r\n",
        "    svg.append(\"line\")\r\n",
        "        .style(\"stroke\", \"lightgreen\")\r\n",
        "        .style(\"stroke-width\", 3)\r\n",
        "        .attr(\"x1\", x(data[i].salesperson)+x.rangeBand()/2)\r\n",
        "        .attr(\"y1\", y(data[i].sales))\r\n",
        "        .attr(\"x2\", x(data[i+1].salesperson)+x.rangeBand()/2)\r\n",
        "        .attr(\"y2\", y(data[i+1].sales));\r\n",
        "}\r\n",
        "''');\r\n"
      ],
      "execution_count": 9,
      "outputs": []
    },
    {
      "cell_type": "code",
      "metadata": {
        "colab": {
          "base_uri": "https://localhost:8080/",
          "height": 17
        },
        "id": "pYhLMER4R_K4",
        "outputId": "f5a236c1-311d-4373-85ee-829c08ede581"
      },
      "source": [
        "html_template = Template('''\r\n",
        "    <style>\r\n",
        "    .bar {\r\n",
        "  fill: steelblue;\r\n",
        "}\r\n",
        "\r\n",
        ".bar:hover {\r\n",
        "  fill: brown;\r\n",
        "}\r\n",
        "\r\n",
        ".axis {\r\n",
        "  font: 10px sans-serif;\r\n",
        "}\r\n",
        "\r\n",
        ".axis path,\r\n",
        ".axis line {\r\n",
        "  fill: none;\r\n",
        "  stroke: #000;\r\n",
        "  shape-rendering: crispEdges;\r\n",
        "}\r\n",
        "\r\n",
        ".x.axis path {\r\n",
        "  display: none;\r\n",
        "}\r\n",
        "    </style>\r\n",
        "<div id=\"graph-div\"></div>\r\n",
        "<script> $js_text </script>\r\n",
        "''')\r\n",
        "js_text = js_text_template.substitute({\r\n",
        "    \"data\":json.dumps(data_dict)\r\n",
        "})\r\n",
        "\r\n",
        "HTML(html_template.substitute({'js_text':js_text}))"
      ],
      "execution_count": 11,
      "outputs": [
        {
          "output_type": "execute_result",
          "data": {
            "text/html": [
              "\n",
              "    <style>\n",
              "    .bar {\n",
              "  fill: steelblue;\n",
              "}\n",
              "\n",
              ".bar:hover {\n",
              "  fill: brown;\n",
              "}\n",
              "\n",
              ".axis {\n",
              "  font: 10px sans-serif;\n",
              "}\n",
              "\n",
              ".axis path,\n",
              ".axis line {\n",
              "  fill: none;\n",
              "  stroke: #000;\n",
              "  shape-rendering: crispEdges;\n",
              "}\n",
              "\n",
              ".x.axis path {\n",
              "  display: none;\n",
              "}\n",
              "    </style>\n",
              "<div id=\"graph-div\"></div>\n",
              "<script> \n",
              "var margin = {\n",
              "        top: 20,\n",
              "        right: 20,\n",
              "        bottom: 30,\n",
              "        left: 40\n",
              "    },\n",
              "    width = 500 - margin.left - margin.right,\n",
              "    height = 300 - margin.top - margin.bottom;\n",
              "\n",
              "var x = d3.scale.ordinal()\n",
              "    .rangeRoundBands([0, width], .1);\n",
              "\n",
              "var y = d3.scale.linear()\n",
              "    .range([height, 0]);\n",
              "\n",
              "var xAxis = d3.svg.axis()\n",
              "    .scale(x)\n",
              "    .orient(\"bottom\");\n",
              "\n",
              "var yAxis = d3.svg.axis()\n",
              "    .scale(y)\n",
              "    .orient(\"left\");\n",
              "\n",
              "var svg = d3.select(\"#graph-div\").append(\"svg\")\n",
              "    .attr(\"width\", width + margin.left + margin.right)\n",
              "    .attr(\"height\", height + margin.top + margin.bottom)\n",
              "    .append(\"g\")\n",
              "    .attr(\"transform\", \"translate(\" + margin.left + \",\" + margin.top + \")\");\n",
              "\n",
              "var data = [{\"operators\": \"Adam\", \"calls\": 31}, {\"operators\": \"Danilo\", \"calls\": 24}, {\"operators\": \"Luis\", \"calls\": 49}, {\"operators\": \"Mark\", \"calls\": 16}, {\"operators\": \"Joe\", \"calls\": 51}, {\"operators\": \"Eve\", \"calls\": 34}, {\"operators\": \"Karen\", \"calls\": 2}, {\"operators\": \"Kirsty\", \"calls\": 25}, {\"operators\": \"Chris\", \"calls\": 30}, {\"operators\": \"Lisa\", \"calls\": 47}, {\"operators\": \"Tom\", \"calls\": 5}, {\"operators\": \"Stacy\", \"calls\": 20}, {\"operators\": \"Charles\", \"calls\": 22}, {\"operators\": \"Mary\", \"calls\": 29}];\n",
              "\n",
              "x.domain(data.map(function(d) {\n",
              "    return d.salesperson;\n",
              "}));\n",
              "y.domain([0, d3.max(data, function(d) {\n",
              "    return d.sales;\n",
              "})]);\n",
              "\n",
              "svg.append(\"g\")\n",
              "    .attr(\"class\", \"x axis\")\n",
              "    .attr(\"transform\", \"translate(0,\" + height + \")\")\n",
              "    .call(xAxis);\n",
              "\n",
              "svg.append(\"g\")\n",
              "    .attr(\"class\", \"y axis\")\n",
              "    .call(yAxis);\n",
              "\n",
              "svg.selectAll(\".bar\")\n",
              "    .data(data)\n",
              "    .enter().append(\"rect\")\n",
              "    .attr(\"class\", \"bar\")\n",
              "    .attr(\"x\", function(d) {\n",
              "        return x(d.salesperson);\n",
              "    })\n",
              "    .attr(\"width\", x.rangeBand())\n",
              "    .attr(\"y\", function(d) {\n",
              "        return y(d.sales);\n",
              "    })\n",
              "    .attr(\"height\", function(d) {\n",
              "        return height - y(d.sales);\n",
              "    });\n",
              "\n",
              "for (let i = 0; i < data.length-1; i++) {\n",
              "    svg.append(\"line\")\n",
              "        .style(\"stroke\", \"lightgreen\")\n",
              "        .style(\"stroke-width\", 3)\n",
              "        .attr(\"x1\", x(data[i].salesperson)+x.rangeBand()/2)\n",
              "        .attr(\"y1\", y(data[i].sales))\n",
              "        .attr(\"x2\", x(data[i+1].salesperson)+x.rangeBand()/2)\n",
              "        .attr(\"y2\", y(data[i+1].sales));\n",
              "}\n",
              " </script>\n"
            ],
            "text/plain": [
              "<IPython.core.display.HTML object>"
            ]
          },
          "metadata": {
            "tags": []
          },
          "execution_count": 11
        }
      ]
    }
  ]
}