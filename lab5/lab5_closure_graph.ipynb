{
  "nbformat": 4,
  "nbformat_minor": 0,
  "metadata": {
    "colab": {
      "name": "lab5_closure_graph.ipynb",
      "provenance": [],
      "collapsed_sections": []
    },
    "kernelspec": {
      "name": "python3",
      "display_name": "Python 3"
    }
  },
  "cells": [
    {
      "cell_type": "code",
      "metadata": {
        "colab": {
          "base_uri": "https://localhost:8080/"
        },
        "id": "sUIVPFA5Ksy7",
        "outputId": "f19c0379-9461-476a-ff66-a14392b878ff"
      },
      "source": [
        "import nltk\r\n",
        "nltk.download('wordnet')\r\n",
        "from nltk.corpus import wordnet as wn\r\n"
      ],
      "execution_count": 1,
      "outputs": [
        {
          "output_type": "stream",
          "text": [
            "[nltk_data] Downloading package wordnet to /root/nltk_data...\n",
            "[nltk_data]   Unzipping corpora/wordnet.zip.\n"
          ],
          "name": "stdout"
        }
      ]
    },
    {
      "cell_type": "code",
      "metadata": {
        "id": "oiIp_7Q-Kyrh"
      },
      "source": [
        "def closure(synset,fn):\r\n",
        "    seen = set()\r\n",
        "    node = set()\r\n",
        "    edge = list()\r\n",
        "    def recurse(s):\r\n",
        "        if not s in seen:\r\n",
        "            seen.add(s)\r\n",
        "            node.add(s.lemma_names('eng')[0])\r\n",
        "            for i in range(1, len(s.lemma_names('eng'))):\r\n",
        "                node.add(s.lemma_names('eng')[i])\r\n",
        "                edge.append({\"source\":s.lemma_names('eng')[0],\"target\":s.lemma_names('eng')[i],\"type\":\"synonym\"})\r\n",
        "            for s1 in fn(s):\r\n",
        "                node.add(s1.lemma_names('eng')[0])\r\n",
        "                edge.append({\"source\":s.lemma_names('eng')[0],\"target\":s1.lemma_names('eng')[0],\"type\":\"hypernym\"})\r\n",
        "                recurse(s1)\r\n",
        "    recurse(synset)\r\n",
        "    return (list(node), edge)\r\n"
      ],
      "execution_count": 4,
      "outputs": []
    },
    {
      "cell_type": "code",
      "metadata": {
        "colab": {
          "base_uri": "https://localhost:8080/"
        },
        "id": "e8dzant4LYvG",
        "outputId": "57d828d1-9af3-4b20-8637-b1902f55b0f6"
      },
      "source": [
        "import json\r\n",
        "\r\n",
        "cat = wn.synset('cat.n.01')\r\n",
        "graph = closure(cat,lambda s: s.hypernyms())\r\n",
        "print(graph)\r\n",
        "nodes = []\r\n",
        "nodesJson = {}\r\n",
        "for i in range(len(graph[0])):\r\n",
        "    nodes.append({\"id\":i+1, \"name\": graph[0][i]})\r\n",
        "    nodesJson[graph[0][i]] = i+1\r\n",
        "links = []\r\n",
        "for i in range(len(graph[1])):\r\n",
        "    graph[1][i]['source'] = nodesJson[graph[1][i]['source']]\r\n",
        "    graph[1][i]['target'] = nodesJson[graph[1][i]['target']]\r\n",
        "    links.append(graph[1][i])\r\n",
        "with open(\"wordnet.json\",\"w\") as fh:\r\n",
        "    json.dump({\"nodes\":nodes,\"links\":graph[1]},fh)"
      ],
      "execution_count": 5,
      "outputs": [
        {
          "output_type": "stream",
          "text": [
            "(['felid', 'entity', 'feline', 'object', 'organism', 'animal', 'eutherian', 'eutherian_mammal', 'placental_mammal', 'creature', 'animate_thing', 'mammal', 'chordate', 'true_cat', 'beast', 'cat', 'fauna', 'unit', 'placental', 'carnivore', 'brute', 'being', 'physical_object', 'mammalian', 'whole', 'living_thing', 'physical_entity', 'vertebrate', 'craniate', 'animate_being'], [{'source': 'cat', 'target': 'true_cat', 'type': 'synonym'}, {'source': 'cat', 'target': 'feline', 'type': 'hypernym'}, {'source': 'feline', 'target': 'felid', 'type': 'synonym'}, {'source': 'feline', 'target': 'carnivore', 'type': 'hypernym'}, {'source': 'carnivore', 'target': 'placental', 'type': 'hypernym'}, {'source': 'placental', 'target': 'placental_mammal', 'type': 'synonym'}, {'source': 'placental', 'target': 'eutherian', 'type': 'synonym'}, {'source': 'placental', 'target': 'eutherian_mammal', 'type': 'synonym'}, {'source': 'placental', 'target': 'mammal', 'type': 'hypernym'}, {'source': 'mammal', 'target': 'mammalian', 'type': 'synonym'}, {'source': 'mammal', 'target': 'vertebrate', 'type': 'hypernym'}, {'source': 'vertebrate', 'target': 'craniate', 'type': 'synonym'}, {'source': 'vertebrate', 'target': 'chordate', 'type': 'hypernym'}, {'source': 'chordate', 'target': 'animal', 'type': 'hypernym'}, {'source': 'animal', 'target': 'animate_being', 'type': 'synonym'}, {'source': 'animal', 'target': 'beast', 'type': 'synonym'}, {'source': 'animal', 'target': 'brute', 'type': 'synonym'}, {'source': 'animal', 'target': 'creature', 'type': 'synonym'}, {'source': 'animal', 'target': 'fauna', 'type': 'synonym'}, {'source': 'animal', 'target': 'organism', 'type': 'hypernym'}, {'source': 'organism', 'target': 'being', 'type': 'synonym'}, {'source': 'organism', 'target': 'living_thing', 'type': 'hypernym'}, {'source': 'living_thing', 'target': 'animate_thing', 'type': 'synonym'}, {'source': 'living_thing', 'target': 'whole', 'type': 'hypernym'}, {'source': 'whole', 'target': 'unit', 'type': 'synonym'}, {'source': 'whole', 'target': 'object', 'type': 'hypernym'}, {'source': 'object', 'target': 'physical_object', 'type': 'synonym'}, {'source': 'object', 'target': 'physical_entity', 'type': 'hypernym'}, {'source': 'physical_entity', 'target': 'entity', 'type': 'hypernym'}])\n"
          ],
          "name": "stdout"
        }
      ]
    }
  ]
}