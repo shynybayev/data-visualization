{
  "nbformat": 4,
  "nbformat_minor": 0,
  "metadata": {
    "colab": {
      "name": "Untitled7.ipynb",
      "provenance": []
    },
    "kernelspec": {
      "name": "python3",
      "display_name": "Python 3"
    }
  },
  "cells": [
    {
      "cell_type": "code",
      "metadata": {
        "colab": {
          "base_uri": "https://localhost:8080/"
        },
        "id": "p0GDELVImZbY",
        "outputId": "510ea6d1-bbc6-4bcf-8f98-1847884a913b"
      },
      "source": [
        "nltk.download('brown')"
      ],
      "execution_count": 10,
      "outputs": [
        {
          "output_type": "stream",
          "text": [
            "[nltk_data] Downloading package brown to /root/nltk_data...\n",
            "[nltk_data]   Unzipping corpora/brown.zip.\n"
          ],
          "name": "stdout"
        },
        {
          "output_type": "execute_result",
          "data": {
            "text/plain": [
              "True"
            ]
          },
          "metadata": {
            "tags": []
          },
          "execution_count": 10
        }
      ]
    },
    {
      "cell_type": "code",
      "metadata": {
        "id": "EKWKaMnlPl4J"
      },
      "source": [
        "from nltk.corpus import brown"
      ],
      "execution_count": 8,
      "outputs": []
    },
    {
      "cell_type": "code",
      "metadata": {
        "id": "fvdVP-XQm2hN"
      },
      "source": [
        "texts = brown.sents(categories='news')[:10]"
      ],
      "execution_count": 22,
      "outputs": []
    },
    {
      "cell_type": "code",
      "metadata": {
        "id": "q1nE1ve3oAwK"
      },
      "source": [
        "from nltk.corpus import stopwords"
      ],
      "execution_count": 26,
      "outputs": []
    },
    {
      "cell_type": "code",
      "metadata": {
        "colab": {
          "base_uri": "https://localhost:8080/"
        },
        "id": "sNJZ0Wy5qwhk",
        "outputId": "0ecc7398-181e-46b0-fbbb-01ca666aa1e1"
      },
      "source": [
        "vocabulary = []\n",
        "newTexts = []\n",
        "for i in texts:\n",
        "  tokens_without_sw = [word.upper() for word in i if not word in stopwords.words() and not word in ['``',',','.',\"''\"]]\n",
        "  newTexts.append(tokens_without_sw)\n",
        "  for token in tokens_without_sw:\n",
        "        if token not in vocabulary:\n",
        "            vocabulary.append(token)\n",
        "\n",
        "\n",
        "word2idx = {w: idx for (idx, w) in enumerate(vocabulary)}\n",
        "len(word2idx)"
      ],
      "execution_count": 29,
      "outputs": [
        {
          "output_type": "execute_result",
          "data": {
            "text/plain": [
              "107"
            ]
          },
          "metadata": {
            "tags": []
          },
          "execution_count": 29
        }
      ]
    },
    {
      "cell_type": "code",
      "metadata": {
        "id": "Yj-W7ApAwPvh"
      },
      "source": [
        "window_size = 1\n",
        "idx_pairs = []\n",
        "for sentence in newTexts:\n",
        "    indices = [word2idx[word] for word in sentence]\n",
        "    for center_word_pos in range(len(indices)):\n",
        "        for w in range(-window_size, window_size + 1):\n",
        "            context_word_pos = center_word_pos + w\n",
        "            if context_word_pos < 0 or context_word_pos >= len(indices) or center_word_pos == context_word_pos:\n",
        "                continue\n",
        "            context_word_idx = indices[context_word_pos]\n",
        "            idx_pairs.append((indices[center_word_pos], context_word_idx))\n",
        "\n",
        "idx_pairs = np.array(idx_pairs)"
      ],
      "execution_count": 30,
      "outputs": []
    },
    {
      "cell_type": "code",
      "metadata": {
        "id": "pukCq3w1yRoO"
      },
      "source": [
        "array_occurance = [[0 for j in range(len(vocabulary))] for i in range(len(vocabulary))]"
      ],
      "execution_count": 31,
      "outputs": []
    },
    {
      "cell_type": "code",
      "metadata": {
        "id": "438FIKtAyUMz"
      },
      "source": [
        "for i in range(len(vocabulary)):\n",
        "    for j in range(len(vocabulary)):\n",
        "        for m in range (len(idx_pairs)):\n",
        "            if (i != j):\n",
        "                if (idx_pairs[i][0] == idx_pairs[m][0]) and (idx_pairs[j][1] == idx_pairs[m][1]):\n",
        "                    array_occurance[i][j] = array_occurance[i][j] + 1"
      ],
      "execution_count": 32,
      "outputs": []
    },
    {
      "cell_type": "code",
      "metadata": {
        "id": "KBjpwpEOyX4z"
      },
      "source": [
        "source = []\n",
        "target = []\n",
        "weight = []\n",
        "vocabulary_new = []\n",
        "for i in range(len(array_occurance)):\n",
        "    for j in range(len(array_occurance)):\n",
        "        if (array_occurance[i][j] > 2):\n",
        "            source.append(vocabulary[i])\n",
        "            target.append(vocabulary[j])\n",
        "            weight.append(array_occurance[i][j])\n",
        "            if (vocabulary[i]) not in vocabulary_new:\n",
        "                vocabulary_new.append(vocabulary[i])\n",
        "            if (vocabulary[j]) not in vocabulary_new:\n",
        "                vocabulary_new.append(vocabulary[j])"
      ],
      "execution_count": 33,
      "outputs": []
    },
    {
      "cell_type": "code",
      "metadata": {
        "colab": {
          "base_uri": "https://localhost:8080/"
        },
        "id": "V_tIqWjqybDF",
        "outputId": "5f5a244d-bf9a-4582-e749-c32b04ce8933"
      },
      "source": [
        "len(vocabulary_new)"
      ],
      "execution_count": 34,
      "outputs": [
        {
          "output_type": "execute_result",
          "data": {
            "text/plain": [
              "16"
            ]
          },
          "metadata": {
            "tags": []
          },
          "execution_count": 34
        }
      ]
    },
    {
      "cell_type": "code",
      "metadata": {
        "id": "aBpzXZzCyk8c"
      },
      "source": [
        "import pandas as pd"
      ],
      "execution_count": 36,
      "outputs": []
    },
    {
      "cell_type": "code",
      "metadata": {
        "id": "qDoup-pCydSz"
      },
      "source": [
        "df = pd.DataFrame(columns = ({\"source\", \"target\",\"weight\"}))"
      ],
      "execution_count": 37,
      "outputs": []
    },
    {
      "cell_type": "code",
      "metadata": {
        "id": "vwpqEV9WygMo"
      },
      "source": [
        "df['source'] = source\n",
        "df['target'] = target\n",
        "df['weight'] = weight"
      ],
      "execution_count": 38,
      "outputs": []
    },
    {
      "cell_type": "code",
      "metadata": {
        "id": "hV2TJUhIyouc"
      },
      "source": [
        "df.to_csv(r'edgelist.csv')"
      ],
      "execution_count": 40,
      "outputs": []
    },
    {
      "cell_type": "code",
      "metadata": {
        "id": "lfLtLBUgyrT_"
      },
      "source": [
        "df2 = pd.DataFrame(columns = ({\"id\"}))\n",
        "df2['id'] = vocabulary_new"
      ],
      "execution_count": 41,
      "outputs": []
    },
    {
      "cell_type": "code",
      "metadata": {
        "id": "0_OKt-lqy7K6"
      },
      "source": [
        "df2.to_csv(r'nodelist.csv')"
      ],
      "execution_count": 42,
      "outputs": []
    }
  ]
}